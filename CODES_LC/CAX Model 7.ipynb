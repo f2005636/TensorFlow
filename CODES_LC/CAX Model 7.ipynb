{
 "cells": [
  {
   "cell_type": "markdown",
   "metadata": {},
   "source": [
    "# Linear Classifier"
   ]
  },
  {
   "cell_type": "code",
   "execution_count": 1,
   "metadata": {
    "collapsed": true
   },
   "outputs": [],
   "source": [
    "import pandas as pd\n",
    "from sklearn.model_selection import train_test_split\n",
    "import tensorflow as tf\n",
    "from sklearn.metrics import classification_report"
   ]
  },
  {
   "cell_type": "markdown",
   "metadata": {},
   "source": [
    "** Get the Data **"
   ]
  },
  {
   "cell_type": "code",
   "execution_count": 2,
   "metadata": {},
   "outputs": [
    {
     "name": "stdout",
     "output_type": "stream",
     "text": [
      "<class 'pandas.core.frame.DataFrame'>\n",
      "RangeIndex: 472 entries, 0 to 471\n",
      "Data columns (total 15 columns):\n",
      "Y               472 non-null int64\n",
      "Company_Name    472 non-null object\n",
      "Factor1         472 non-null float64\n",
      "Factor2         472 non-null float64\n",
      "Factor3         472 non-null float64\n",
      "Factor4         472 non-null float64\n",
      "Factor5         472 non-null float64\n",
      "Factor6         472 non-null float64\n",
      "Factor7         472 non-null float64\n",
      "Factor8         472 non-null float64\n",
      "Factor9         472 non-null float64\n",
      "Factor10        472 non-null float64\n",
      "Factor11        472 non-null float64\n",
      "Factor12        472 non-null float64\n",
      "Factor13        472 non-null float64\n",
      "dtypes: float64(13), int64(1), object(1)\n",
      "memory usage: 55.4+ KB\n"
     ]
    }
   ],
   "source": [
    "df = pd.read_csv(\"dataset.csv\")\n",
    "df.info()"
   ]
  },
  {
   "cell_type": "markdown",
   "metadata": {},
   "source": [
    "** Train Test Split **"
   ]
  },
  {
   "cell_type": "code",
   "execution_count": 3,
   "metadata": {},
   "outputs": [],
   "source": [
    "x_data = df.drop(['Y','Company_Name'],axis=1)\n",
    "y_labels = df['Y']\n",
    "X_train, X_test, y_train, y_test = train_test_split(x_data,y_labels,test_size=0.3,random_state=101)"
   ]
  },
  {
   "cell_type": "markdown",
   "metadata": {},
   "source": [
    "** Continuous feature columns **"
   ]
  },
  {
   "cell_type": "code",
   "execution_count": 4,
   "metadata": {},
   "outputs": [],
   "source": [
    "Factor1 = tf.feature_column.numeric_column(\"Factor1\")\n",
    "Factor2 = tf.feature_column.numeric_column(\"Factor2\")\n",
    "Factor3 = tf.feature_column.numeric_column(\"Factor3\")\n",
    "Factor4 = tf.feature_column.numeric_column(\"Factor4\")\n",
    "Factor5 = tf.feature_column.numeric_column(\"Factor5\")\n",
    "Factor6 = tf.feature_column.numeric_column(\"Factor6\")\n",
    "Factor7 = tf.feature_column.numeric_column(\"Factor7\")\n",
    "Factor8 = tf.feature_column.numeric_column(\"Factor8\")\n",
    "Factor9 = tf.feature_column.numeric_column(\"Factor9\")\n",
    "Factor10 = tf.feature_column.numeric_column(\"Factor10\")\n",
    "Factor11 = tf.feature_column.numeric_column(\"Factor11\")\n",
    "Factor12 = tf.feature_column.numeric_column(\"Factor12\")\n",
    "Factor13 = tf.feature_column.numeric_column(\"Factor13\")"
   ]
  },
  {
   "cell_type": "code",
   "execution_count": 5,
   "metadata": {
    "collapsed": true
   },
   "outputs": [],
   "source": [
    "feat_cols = [Factor1,Factor2,Factor3,Factor4,Factor5,Factor6,Factor7,\n",
    "            Factor8,Factor9,Factor10,Factor11,Factor12,Factor13]"
   ]
  },
  {
   "cell_type": "markdown",
   "metadata": {},
   "source": [
    "** Input Function **"
   ]
  },
  {
   "cell_type": "code",
   "execution_count": 6,
   "metadata": {
    "collapsed": true
   },
   "outputs": [],
   "source": [
    "input_func=tf.estimator.inputs.pandas_input_fn(x=X_train,y=y_train,batch_size=33,num_epochs=None,shuffle=True)"
   ]
  },
  {
   "cell_type": "markdown",
   "metadata": {},
   "source": [
    "** Model with tf.estimator **"
   ]
  },
  {
   "cell_type": "code",
   "execution_count": 7,
   "metadata": {},
   "outputs": [
    {
     "name": "stdout",
     "output_type": "stream",
     "text": [
      "INFO:tensorflow:Using default config.\n",
      "WARNING:tensorflow:Using temporary folder as model directory: C:\\Users\\admin\\AppData\\Local\\Temp\\tmpj5tqoo8p\n",
      "INFO:tensorflow:Using config: {'_log_step_count_steps': 100, '_keep_checkpoint_every_n_hours': 10000, '_session_config': None, '_model_dir': 'C:\\\\Users\\\\admin\\\\AppData\\\\Local\\\\Temp\\\\tmpj5tqoo8p', '_save_checkpoints_steps': None, '_save_checkpoints_secs': 600, '_keep_checkpoint_max': 5, '_save_summary_steps': 100, '_tf_random_seed': 1}\n"
     ]
    }
   ],
   "source": [
    "model = tf.estimator.LinearClassifier(feature_columns=feat_cols)"
   ]
  },
  {
   "cell_type": "markdown",
   "metadata": {},
   "source": [
    "** Train the model for at 2000 steps **"
   ]
  },
  {
   "cell_type": "code",
   "execution_count": 8,
   "metadata": {},
   "outputs": [
    {
     "name": "stdout",
     "output_type": "stream",
     "text": [
      "INFO:tensorflow:Create CheckpointSaverHook.\n",
      "INFO:tensorflow:Saving checkpoints for 1 into C:\\Users\\admin\\AppData\\Local\\Temp\\tmpj5tqoo8p\\model.ckpt.\n",
      "INFO:tensorflow:step = 1, loss = 22.8739\n",
      "INFO:tensorflow:global_step/sec: 172.042\n",
      "INFO:tensorflow:step = 101, loss = 4.14306 (0.595 sec)\n",
      "INFO:tensorflow:global_step/sec: 250.585\n",
      "INFO:tensorflow:step = 201, loss = 1.82039 (0.400 sec)\n",
      "INFO:tensorflow:global_step/sec: 243.505\n",
      "INFO:tensorflow:step = 301, loss = 2.10619 (0.395 sec)\n",
      "INFO:tensorflow:global_step/sec: 224.268\n",
      "INFO:tensorflow:step = 401, loss = 0.848824 (0.460 sec)\n",
      "INFO:tensorflow:global_step/sec: 130.064\n",
      "INFO:tensorflow:step = 501, loss = 0.514493 (0.770 sec)\n",
      "INFO:tensorflow:global_step/sec: 153.927\n",
      "INFO:tensorflow:step = 601, loss = 0.996773 (0.665 sec)\n",
      "INFO:tensorflow:global_step/sec: 204.453\n",
      "INFO:tensorflow:step = 701, loss = 1.18354 (0.475 sec)\n",
      "INFO:tensorflow:global_step/sec: 150.809\n",
      "INFO:tensorflow:step = 801, loss = 0.421786 (0.662 sec)\n",
      "INFO:tensorflow:global_step/sec: 235.282\n",
      "INFO:tensorflow:step = 901, loss = 0.663011 (0.421 sec)\n",
      "INFO:tensorflow:global_step/sec: 236.229\n",
      "INFO:tensorflow:step = 1001, loss = 0.811636 (0.427 sec)\n",
      "INFO:tensorflow:global_step/sec: 187.822\n",
      "INFO:tensorflow:step = 1101, loss = 0.446084 (0.532 sec)\n",
      "INFO:tensorflow:global_step/sec: 244.858\n",
      "INFO:tensorflow:step = 1201, loss = 0.401914 (0.393 sec)\n",
      "INFO:tensorflow:global_step/sec: 178.101\n",
      "INFO:tensorflow:step = 1301, loss = 0.468213 (0.577 sec)\n",
      "INFO:tensorflow:global_step/sec: 198.718\n",
      "INFO:tensorflow:step = 1401, loss = 0.212918 (0.496 sec)\n",
      "INFO:tensorflow:global_step/sec: 249.03\n",
      "INFO:tensorflow:step = 1501, loss = 0.589792 (0.393 sec)\n",
      "INFO:tensorflow:global_step/sec: 245.023\n",
      "INFO:tensorflow:step = 1601, loss = 0.168968 (0.408 sec)\n",
      "INFO:tensorflow:global_step/sec: 248.243\n",
      "INFO:tensorflow:step = 1701, loss = 0.637824 (0.412 sec)\n",
      "INFO:tensorflow:global_step/sec: 252.731\n",
      "INFO:tensorflow:step = 1801, loss = 0.626003 (0.402 sec)\n",
      "INFO:tensorflow:global_step/sec: 236.419\n",
      "INFO:tensorflow:step = 1901, loss = 0.535066 (0.433 sec)\n",
      "INFO:tensorflow:Saving checkpoints for 2000 into C:\\Users\\admin\\AppData\\Local\\Temp\\tmpj5tqoo8p\\model.ckpt.\n",
      "INFO:tensorflow:Loss for final step: 0.553425.\n"
     ]
    },
    {
     "data": {
      "text/plain": [
       "<tensorflow.python.estimator.canned.linear.LinearClassifier at 0x19d5a26b208>"
      ]
     },
     "execution_count": 8,
     "metadata": {},
     "output_type": "execute_result"
    }
   ],
   "source": [
    "model.train(input_fn=input_func,steps=2000)"
   ]
  },
  {
   "cell_type": "markdown",
   "metadata": {},
   "source": [
    "** Evaluation **"
   ]
  },
  {
   "cell_type": "code",
   "execution_count": 9,
   "metadata": {
    "collapsed": true
   },
   "outputs": [],
   "source": [
    "pred_fn = tf.estimator.inputs.pandas_input_fn(x=X_test,batch_size=len(X_test),shuffle=False)"
   ]
  },
  {
   "cell_type": "code",
   "execution_count": 10,
   "metadata": {},
   "outputs": [
    {
     "name": "stdout",
     "output_type": "stream",
     "text": [
      "INFO:tensorflow:Restoring parameters from C:\\Users\\admin\\AppData\\Local\\Temp\\tmpj5tqoo8p\\model.ckpt-2000\n"
     ]
    }
   ],
   "source": [
    "predictions = list(model.predict(input_fn=pred_fn))"
   ]
  },
  {
   "cell_type": "code",
   "execution_count": 11,
   "metadata": {
    "collapsed": true
   },
   "outputs": [],
   "source": [
    "final_preds = []\n",
    "for pred in predictions:\n",
    "    final_preds.append(pred['class_ids'][0])"
   ]
  },
  {
   "cell_type": "code",
   "execution_count": 12,
   "metadata": {},
   "outputs": [
    {
     "name": "stdout",
     "output_type": "stream",
     "text": [
      "             precision    recall  f1-score   support\n",
      "\n",
      "          0       0.98      1.00      0.99        45\n",
      "          1       1.00      0.99      0.99        97\n",
      "\n",
      "avg / total       0.99      0.99      0.99       142\n",
      "\n"
     ]
    }
   ],
   "source": [
    "print(classification_report(y_test,final_preds))"
   ]
  }
 ],
 "metadata": {
  "kernelspec": {
   "display_name": "Python 3",
   "language": "python",
   "name": "python3"
  },
  "language_info": {
   "codemirror_mode": {
    "name": "ipython",
    "version": 3
   },
   "file_extension": ".py",
   "mimetype": "text/x-python",
   "name": "python",
   "nbconvert_exporter": "python",
   "pygments_lexer": "ipython3",
   "version": "3.5.4"
  },
  "name": "PySpark",
  "notebookId": 3006531626552036
 },
 "nbformat": 4,
 "nbformat_minor": 1
}
