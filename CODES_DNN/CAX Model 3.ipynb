{
 "cells": [
  {
   "cell_type": "markdown",
   "metadata": {},
   "source": [
    "# DNN Classifier"
   ]
  },
  {
   "cell_type": "code",
   "execution_count": 14,
   "metadata": {
    "collapsed": true
   },
   "outputs": [],
   "source": [
    "import numpy as np\n",
    "import pandas as pd\n",
    "from sklearn.model_selection import train_test_split\n",
    "import tensorflow as tf\n",
    "from sklearn.metrics import classification_report"
   ]
  },
  {
   "cell_type": "markdown",
   "metadata": {},
   "source": [
    "** Get the Data **"
   ]
  },
  {
   "cell_type": "code",
   "execution_count": 15,
   "metadata": {},
   "outputs": [
    {
     "name": "stdout",
     "output_type": "stream",
     "text": [
      "<class 'pandas.core.frame.DataFrame'>\n",
      "RangeIndex: 314 entries, 0 to 313\n",
      "Data columns (total 19 columns):\n",
      "CAX_ID      314 non-null object\n",
      "Y           234 non-null float64\n",
      "flag        314 non-null object\n",
      "Factor1     314 non-null float64\n",
      "Factor2     314 non-null float64\n",
      "Factor3     314 non-null float64\n",
      "Factor4     314 non-null float64\n",
      "Factor5     314 non-null float64\n",
      "Factor6     314 non-null float64\n",
      "Factor7     314 non-null float64\n",
      "Factor8     314 non-null float64\n",
      "Factor9     314 non-null float64\n",
      "Factor10    314 non-null float64\n",
      "Factor11    314 non-null float64\n",
      "Factor12    314 non-null float64\n",
      "Factor13    314 non-null float64\n",
      "Factor14    314 non-null float64\n",
      "Factor15    314 non-null float64\n",
      "Factor16    314 non-null float64\n",
      "dtypes: float64(17), object(2)\n",
      "memory usage: 46.7+ KB\n"
     ]
    }
   ],
   "source": [
    "df = pd.read_csv(\"dataset.csv\")\n",
    "df.info()"
   ]
  },
  {
   "cell_type": "markdown",
   "metadata": {},
   "source": [
    "** Train Test Split **"
   ]
  },
  {
   "cell_type": "code",
   "execution_count": 16,
   "metadata": {
    "collapsed": true
   },
   "outputs": [],
   "source": [
    "train = df.loc[df['flag']=='TRAIN'].copy()\n",
    "test = df.loc[df['flag']=='TEST'].copy()\n",
    "\n",
    "X_train = train.drop(['CAX_ID','Y','flag'],axis=1)\n",
    "X_test = test.drop(['CAX_ID','Y','flag'],axis=1)\n",
    "y_train = train['Y']\n",
    "y_test = test['Y']"
   ]
  },
  {
   "cell_type": "markdown",
   "metadata": {},
   "source": [
    "** Continuous feature columns **"
   ]
  },
  {
   "cell_type": "code",
   "execution_count": 17,
   "metadata": {
    "collapsed": true
   },
   "outputs": [],
   "source": [
    "Factor1 = tf.feature_column.numeric_column(\"Factor1\")\n",
    "Factor2 = tf.feature_column.numeric_column(\"Factor2\")\n",
    "Factor3 = tf.feature_column.numeric_column(\"Factor3\")\n",
    "Factor4 = tf.feature_column.numeric_column(\"Factor4\")\n",
    "Factor5 = tf.feature_column.numeric_column(\"Factor5\")\n",
    "Factor6 = tf.feature_column.numeric_column(\"Factor6\")\n",
    "Factor7 = tf.feature_column.numeric_column(\"Factor7\")\n",
    "Factor8 = tf.feature_column.numeric_column(\"Factor8\")\n",
    "Factor9 = tf.feature_column.numeric_column(\"Factor9\")\n",
    "Factor10 = tf.feature_column.numeric_column(\"Factor10\")\n",
    "Factor11 = tf.feature_column.numeric_column(\"Factor11\")\n",
    "Factor12 = tf.feature_column.numeric_column(\"Factor12\")\n",
    "Factor13 = tf.feature_column.numeric_column(\"Factor13\")\n",
    "Factor14 = tf.feature_column.numeric_column(\"Factor14\")\n",
    "Factor15 = tf.feature_column.numeric_column(\"Factor15\")\n",
    "Factor16 = tf.feature_column.numeric_column(\"Factor16\")"
   ]
  },
  {
   "cell_type": "code",
   "execution_count": 18,
   "metadata": {
    "collapsed": true
   },
   "outputs": [],
   "source": [
    "feat_cols = [Factor1,Factor2,Factor3,Factor4,Factor5,Factor6,Factor7,Factor8,\n",
    "             Factor9,Factor10,Factor11,Factor12,Factor13,Factor14,Factor15,Factor16]"
   ]
  },
  {
   "cell_type": "markdown",
   "metadata": {},
   "source": [
    "** Input Function **"
   ]
  },
  {
   "cell_type": "code",
   "execution_count": 19,
   "metadata": {
    "collapsed": true
   },
   "outputs": [],
   "source": [
    "input_func=tf.estimator.inputs.pandas_input_fn(x=X_train,y=y_train,batch_size=80,num_epochs=1000,shuffle=True)"
   ]
  },
  {
   "cell_type": "markdown",
   "metadata": {},
   "source": [
    "** Model with tf.estimator **"
   ]
  },
  {
   "cell_type": "code",
   "execution_count": 20,
   "metadata": {},
   "outputs": [
    {
     "name": "stdout",
     "output_type": "stream",
     "text": [
      "INFO:tensorflow:Using default config.\n",
      "WARNING:tensorflow:Using temporary folder as model directory: C:\\Users\\admin\\AppData\\Local\\Temp\\tmp73bskdre\n",
      "INFO:tensorflow:Using config: {'_log_step_count_steps': 100, '_tf_random_seed': 1, '_save_checkpoints_secs': 600, '_keep_checkpoint_every_n_hours': 10000, '_keep_checkpoint_max': 5, '_save_summary_steps': 100, '_save_checkpoints_steps': None, '_session_config': None, '_model_dir': 'C:\\\\Users\\\\admin\\\\AppData\\\\Local\\\\Temp\\\\tmp73bskdre'}\n"
     ]
    }
   ],
   "source": [
    "model = tf.estimator.DNNClassifier(hidden_units=[32,24,16,8,16],feature_columns=feat_cols,n_classes=2)"
   ]
  },
  {
   "cell_type": "markdown",
   "metadata": {},
   "source": [
    "** Train the model for at 2000 steps **"
   ]
  },
  {
   "cell_type": "code",
   "execution_count": 21,
   "metadata": {},
   "outputs": [
    {
     "name": "stdout",
     "output_type": "stream",
     "text": [
      "INFO:tensorflow:Create CheckpointSaverHook.\n",
      "INFO:tensorflow:Saving checkpoints for 1 into C:\\Users\\admin\\AppData\\Local\\Temp\\tmp73bskdre\\model.ckpt.\n",
      "INFO:tensorflow:step = 1, loss = 55.7754\n",
      "INFO:tensorflow:global_step/sec: 117.889\n",
      "INFO:tensorflow:step = 101, loss = 2.27417 (0.842 sec)\n",
      "INFO:tensorflow:global_step/sec: 121.838\n",
      "INFO:tensorflow:step = 201, loss = 0.058807 (0.824 sec)\n",
      "INFO:tensorflow:global_step/sec: 129.03\n",
      "INFO:tensorflow:step = 301, loss = 0.0217847 (0.778 sec)\n",
      "INFO:tensorflow:global_step/sec: 134.251\n",
      "INFO:tensorflow:step = 401, loss = 0.00642878 (0.751 sec)\n",
      "INFO:tensorflow:global_step/sec: 127.401\n",
      "INFO:tensorflow:step = 501, loss = 0.0112889 (0.757 sec)\n",
      "INFO:tensorflow:global_step/sec: 131.717\n",
      "INFO:tensorflow:step = 601, loss = 0.0106996 (0.785 sec)\n",
      "INFO:tensorflow:global_step/sec: 82.3587\n",
      "INFO:tensorflow:step = 701, loss = 0.00334317 (1.204 sec)\n",
      "INFO:tensorflow:global_step/sec: 93.3722\n",
      "INFO:tensorflow:step = 801, loss = 0.00166281 (1.094 sec)\n",
      "INFO:tensorflow:global_step/sec: 155.233\n",
      "INFO:tensorflow:step = 901, loss = 0.00306479 (0.618 sec)\n",
      "INFO:tensorflow:global_step/sec: 166.724\n",
      "INFO:tensorflow:step = 1001, loss = 0.00353943 (0.603 sec)\n",
      "INFO:tensorflow:global_step/sec: 167.171\n",
      "INFO:tensorflow:step = 1101, loss = 0.00321639 (0.599 sec)\n",
      "INFO:tensorflow:global_step/sec: 169.142\n",
      "INFO:tensorflow:step = 1201, loss = 0.00182012 (0.585 sec)\n",
      "INFO:tensorflow:global_step/sec: 168.571\n",
      "INFO:tensorflow:step = 1301, loss = 0.00215273 (0.599 sec)\n",
      "INFO:tensorflow:global_step/sec: 181.822\n",
      "INFO:tensorflow:step = 1401, loss = 0.00110414 (0.555 sec)\n",
      "INFO:tensorflow:global_step/sec: 170.563\n",
      "INFO:tensorflow:step = 1501, loss = 0.00142916 (0.581 sec)\n",
      "INFO:tensorflow:global_step/sec: 173.273\n",
      "INFO:tensorflow:step = 1601, loss = 0.000565513 (0.571 sec)\n",
      "INFO:tensorflow:global_step/sec: 183.471\n",
      "INFO:tensorflow:step = 1701, loss = 0.00104751 (0.565 sec)\n",
      "INFO:tensorflow:global_step/sec: 160.959\n",
      "INFO:tensorflow:step = 1801, loss = 0.00130965 (0.601 sec)\n",
      "INFO:tensorflow:global_step/sec: 169.894\n",
      "INFO:tensorflow:step = 1901, loss = 0.00107834 (0.603 sec)\n",
      "INFO:tensorflow:global_step/sec: 222.176\n",
      "INFO:tensorflow:step = 2001, loss = 0.00120833 (0.427 sec)\n",
      "INFO:tensorflow:global_step/sec: 166.112\n",
      "INFO:tensorflow:step = 2101, loss = 0.000701243 (0.621 sec)\n",
      "INFO:tensorflow:global_step/sec: 169.749\n",
      "INFO:tensorflow:step = 2201, loss = 0.00172709 (0.582 sec)\n",
      "INFO:tensorflow:global_step/sec: 160.872\n",
      "INFO:tensorflow:step = 2301, loss = 0.000668012 (0.630 sec)\n",
      "INFO:tensorflow:global_step/sec: 159.269\n",
      "INFO:tensorflow:step = 2401, loss = 0.00110208 (0.628 sec)\n",
      "INFO:tensorflow:global_step/sec: 151.614\n",
      "INFO:tensorflow:step = 2501, loss = 0.00082885 (0.654 sec)\n",
      "INFO:tensorflow:global_step/sec: 146.358\n",
      "INFO:tensorflow:step = 2601, loss = 0.000755465 (0.685 sec)\n",
      "INFO:tensorflow:global_step/sec: 176.151\n",
      "INFO:tensorflow:step = 2701, loss = 0.000550223 (0.564 sec)\n",
      "INFO:tensorflow:global_step/sec: 157.367\n",
      "INFO:tensorflow:step = 2801, loss = 0.000828026 (0.633 sec)\n",
      "INFO:tensorflow:global_step/sec: 168.004\n",
      "INFO:tensorflow:step = 2901, loss = 0.000876889 (0.602 sec)\n",
      "INFO:tensorflow:Saving checkpoints for 2925 into C:\\Users\\admin\\AppData\\Local\\Temp\\tmp73bskdre\\model.ckpt.\n",
      "INFO:tensorflow:Loss for final step: 0.000787815.\n"
     ]
    },
    {
     "data": {
      "text/plain": [
       "<tensorflow.python.estimator.canned.dnn.DNNClassifier at 0x2692aa4a518>"
      ]
     },
     "execution_count": 21,
     "metadata": {},
     "output_type": "execute_result"
    }
   ],
   "source": [
    "model.train(input_fn=input_func,steps=5000)"
   ]
  },
  {
   "cell_type": "markdown",
   "metadata": {},
   "source": [
    "** Prediction **"
   ]
  },
  {
   "cell_type": "code",
   "execution_count": 22,
   "metadata": {
    "collapsed": true
   },
   "outputs": [],
   "source": [
    "pred_fn = tf.estimator.inputs.pandas_input_fn(x=X_test,batch_size=len(X_test),shuffle=False)"
   ]
  },
  {
   "cell_type": "code",
   "execution_count": 23,
   "metadata": {},
   "outputs": [
    {
     "name": "stdout",
     "output_type": "stream",
     "text": [
      "INFO:tensorflow:Restoring parameters from C:\\Users\\admin\\AppData\\Local\\Temp\\tmp73bskdre\\model.ckpt-2925\n"
     ]
    }
   ],
   "source": [
    "predictions = list(model.predict(input_fn=pred_fn))"
   ]
  },
  {
   "cell_type": "code",
   "execution_count": 24,
   "metadata": {
    "collapsed": true
   },
   "outputs": [],
   "source": [
    "final_preds = []\n",
    "for pred in predictions:\n",
    "    final_preds.append(pred['class_ids'][0])"
   ]
  },
  {
   "cell_type": "code",
   "execution_count": 25,
   "metadata": {
    "collapsed": true
   },
   "outputs": [],
   "source": [
    "test_calc = pd.concat([pd.DataFrame(test).reset_index(drop=True),pd.DataFrame(final_preds).reset_index(drop=True)],axis=1)\n",
    "test_calc.rename(columns={0: 'predicted'}, inplace=True)"
   ]
  },
  {
   "cell_type": "code",
   "execution_count": 26,
   "metadata": {
    "collapsed": true
   },
   "outputs": [],
   "source": [
    "test_calc.to_csv('test_calc.csv')"
   ]
  }
 ],
 "metadata": {
  "kernelspec": {
   "display_name": "Python 3",
   "language": "python",
   "name": "python3"
  },
  "language_info": {
   "codemirror_mode": {
    "name": "ipython",
    "version": 3
   },
   "file_extension": ".py",
   "mimetype": "text/x-python",
   "name": "python",
   "nbconvert_exporter": "python",
   "pygments_lexer": "ipython3",
   "version": "3.5.4"
  },
  "name": "PySpark",
  "notebookId": 3006531626552036
 },
 "nbformat": 4,
 "nbformat_minor": 1
}
